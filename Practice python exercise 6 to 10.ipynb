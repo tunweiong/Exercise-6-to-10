{
 "cells": [
  {
   "cell_type": "markdown",
   "metadata": {},
   "source": [
    "### Exercise 6 \n",
    "Ask the user for a string and print out whether this string is a palindrome or not. (A palindrome is a string that reads the same forwards and backwards.)\n",
    "\n",
    "Strings are lists\n",
    "- Because strings are lists, you can do to strings everything that you do to lists. You can iterate through them:\n",
    "\n",
    "- string = \"example\"\n",
    " -   for c in string: \n",
    "  -   print \"one letter: \" + c\n",
    "  \n",
    "Return\n",
    "If only stop is provided, it generates portion of sequence from index 0 till stop .\n",
    "\n",
    "If only start is provided, it generates portion of sequence after index start till last element.\n",
    "\n",
    "If both start and stop are provided, it generates portion of sequence after index start till stop .\n",
    "\n",
    "If all three start , stop and step are provided, it generates portion of sequence after index start till stop with increment of index step .\n",
    "\n",
    "Example\n",
    "a = [1, 2, 3, 4, 5, 6, 7, 8]\n",
    "print(a[:5])    # prints [1, 2, 3, 4, 5]\n",
    "print(a[2:])    # prints [3, 4, 5, 6, 7, 8]\n",
    "print(a[2:5])    # prints [3, 4, 5]\n",
    "print(a[2:7:2])    # prints [3, 5, 7]\n",
    "You can index the last index of a sequence by using -1 :\n",
    "\n",
    "a = [1, 2, 3, 4, 5, 6]\n",
    "print(a[-1])    # prints 6\n",
    "print(a[2:-1])    # prints [3, 4, 5]\n",
    "You can flip a sequence by using the [::-1] slice notation:\n",
    "\n",
    "a = [1, 2, 3, 4, 5, 6]\n",
    "print(a[::-1])    # prints [6, 5, 4, 3, 2, 1]"
   ]
  },
  {
   "cell_type": "code",
   "execution_count": 5,
   "metadata": {},
   "outputs": [
    {
     "name": "stdout",
     "output_type": "stream",
     "text": [
      "Enter a random word: poppop\n",
      "poppop is a palindrome\n"
     ]
    }
   ],
   "source": [
    "inp = input('Enter a random word: ')\n",
    "if inp.lower() == inp[::-1].lower():\n",
    "    print(f'{inp} is a palindrome')\n",
    "else:\n",
    "    print(f'{inp} is not a palindrome')\n"
   ]
  },
  {
   "cell_type": "code",
   "execution_count": 8,
   "metadata": {},
   "outputs": [
    {
     "name": "stdout",
     "output_type": "stream",
     "text": [
      "Enter a random word: poppop\n",
      "poppop is a palindrome\n"
     ]
    }
   ],
   "source": [
    "# another way of doing it.\n",
    "\n",
    "inp = input('Enter a random word: ')\n",
    "rev_inp = ''.join(reversed(inp))\n",
    "if inp == rev_inp:\n",
    "    print(f'{inp} is a palindrome')\n",
    "else:\n",
    "    print(f'{inp} is not a palindrome')"
   ]
  },
  {
   "cell_type": "markdown",
   "metadata": {},
   "source": [
    "### Exercise 7 \n",
    "Let’s say I give you a list saved in a variable: a = [1, 4, 9, 16, 25, 36, 49, 64, 81, 100]. \n",
    "\n",
    "Write one line of Python that takes this list a and makes a new list that has only the even elements of this list in it.\n"
   ]
  },
  {
   "cell_type": "code",
   "execution_count": null,
   "metadata": {},
   "outputs": [],
   "source": [
    "a = [1, 4, 9, 16, 25, 36, 49, 64, 81, 100]\n",
    "new_list = []\n",
    "\n",
    "for n in a:\n",
    "    if n % 2 == 0:\n",
    "        new_list.append(n)\n",
    "print(new_list)\n",
    "\n",
    "# now to do it in one line\n",
    "even_list = print([n for n in a if n% 2 == 0])"
   ]
  },
  {
   "cell_type": "markdown",
   "metadata": {},
   "source": [
    "### Exercise 8 \n",
    "\n",
    "Make a two-player Rock-Paper-Scissors game. \n",
    "- (Hint: Ask for player plays (using input), compare them, print out a message of congratulations to the winner, and ask if the players want to start a new game)\n",
    "\n",
    "Remember the rules:\n",
    "\n",
    "Rock beats scissors\n",
    "Scissors beats paper\n",
    "Paper beats rock\n",
    "\n",
    "first attempt:\n",
    "\n",
    "p1 = input('Choose a hand sign: ')\n",
    "p2 = input('Choose a hand sign: ')\n",
    "\n",
    "p1_signs = ['rock', 'paper', 'scissors']\n",
    "\n",
    "for n in p1_signs:\n",
    "    if p2.lower() == n:\n",
    "        print('Its a tie!')\n",
    "    "
   ]
  },
  {
   "cell_type": "code",
   "execution_count": 9,
   "metadata": {},
   "outputs": [
    {
     "name": "stdout",
     "output_type": "stream",
     "text": [
      "Player 1, Choose a hand sign: rock\n",
      "Player 2, Choose a hand sign: scissors\n",
      "Player 1 wins!\n",
      "Do you want to start a new game? (yes or no): no\n",
      "GAME OVER\n"
     ]
    }
   ],
   "source": [
    "play = True\n",
    "\n",
    "while play:\n",
    "    p1 = input('Player 1, Choose a hand sign: ').lower()\n",
    "    p2 = input('Player 2, Choose a hand sign: ').lower()\n",
    "\n",
    "    if p1 == p2:\n",
    "        print('Its a tie!')\n",
    "    elif p1 == 'rock' and p2 == 'scissors':\n",
    "        print('Player 1 wins!')\n",
    "    elif p1 == 'rock' and p2 == 'paper':\n",
    "        print('player 2 wins!' )\n",
    "        \n",
    "    elif p1 == 'paper' and p2 == 'scissors':\n",
    "        print('Player 2 wins!')\n",
    "    elif p1 == 'paper' and p2 == 'rock':\n",
    "        print('player 1 wins!' )\n",
    "        \n",
    "    elif p1 == 'scissors' and p2 == 'rock':\n",
    "        print('Player 2 wins!')\n",
    "    elif p1 == 'scissors' and p2 == 'paper':\n",
    "        print('player 1 wins!' )\n",
    "    \n",
    "    else: \n",
    "        print('Wrong input. Please type in the correct handsign')\n",
    "        \n",
    "    end = input('Do you want to start a new game? (yes or no): ').lower()\n",
    "    if end == 'yes':\n",
    "        print('New game will start')\n",
    "    elif end == 'no':\n",
    "        play = False\n",
    "        print('GAME OVER')\n",
    "    else: \n",
    "        print('Please type either yes or a no')\n"
   ]
  },
  {
   "cell_type": "markdown",
   "metadata": {},
   "source": [
    "### Exercise 9 \n",
    "Generate a random number between 1 and 9 (including 1 and 9). Ask the user to guess the number, then tell them whether they guessed too low, too high, or exactly right. (Hint: remember to use the user input lessons from the very first exercise)\n",
    "\n",
    "Extras:\n",
    "\n",
    "Keep the game going until the user types “exit”\n",
    "\n",
    "Keep track of how many guesses the user has taken, and when the game ends, print this out."
   ]
  },
  {
   "cell_type": "code",
   "execution_count": 10,
   "metadata": {},
   "outputs": [
    {
     "name": "stdout",
     "output_type": "stream",
     "text": [
      "Guess the random number from 1 to 9 inclusive: 8\n",
      "You guessed too low!\n",
      "guess number 1\n",
      "Guess the random number from 1 to 9 inclusive: 9\n",
      "you guessed exactly right!\n",
      "total number of guess is 2\n",
      "Do you want to play again? (yes or exit): yes\n",
      "New game will start now.\n",
      "Guess the random number from 1 to 9 inclusive: 2\n",
      "You guessed too low!\n",
      "guess number 1\n",
      "Guess the random number from 1 to 9 inclusive: 5\n",
      "You guessed too low!\n",
      "guess number 2\n",
      "Guess the random number from 1 to 9 inclusive: 8\n",
      "you guessed exactly right!\n",
      "total number of guess is 3\n",
      "Do you want to play again? (yes or exit): exit\n",
      "Game over\n"
     ]
    }
   ],
   "source": [
    "import random\n",
    "random_num = random.randint(1, 9)\n",
    "play = True\n",
    "guess_count = 0\n",
    "\n",
    "while play:\n",
    "    inp = int(input('Guess the random number from 1 to 9 inclusive: '))\n",
    "    guess_count += 1\n",
    "    \n",
    "    if inp < random_num: \n",
    "        print('You guessed too low!')\n",
    "        print(f'guess number {guess_count}')\n",
    "        \n",
    "    elif inp > random_num:\n",
    "        print('you guessed too high!')\n",
    "        print(f'guess number {guess_count}')\n",
    "        \n",
    "    else:\n",
    "        print('you guessed exactly right!')\n",
    "        print(f'total number of guess is {guess_count}')\n",
    "        \n",
    "        restart = input('Do you want to play again? (yes or exit): ').lower()\n",
    "        if restart == 'yes':\n",
    "            print('New game will start now.')\n",
    "            random_num = random.randint(1, 9)\n",
    "            guess_count = 0\n",
    "        elif restart == 'exit':\n",
    "            play = False\n",
    "            print('Game over')\n",
    "        else: \n",
    "            print('please type either yes or exit')            \n"
   ]
  },
  {
   "cell_type": "markdown",
   "metadata": {},
   "source": [
    "### Exercise 10 \n",
    "This week’s exercise is going to be revisiting an old exercise (see Exercise 5), except require the solution in a different way.\n",
    "\n",
    "Take two lists, say for example these two:\n",
    "\n",
    "\ta = [1, 1, 2, 3, 5, 8, 13, 21, 34, 55, 89]\n",
    "\tb = [1, 2, 3, 4, 5, 6, 7, 8, 9, 10, 11, 12, 13]\n",
    "    \n",
    " \tx = [1, 2, 3]\n",
    "\ty = [5, 10, 15]\n",
    "\tallproducts = [a*b for a in x for b in y]\n",
    "    \n",
    "    a = random.sample(range(100), 5)\n",
    "This line of code will leave a containing a list of 5 random numbers from 0 to 99.\n",
    "    \n",
    "and write a program that returns a list that contains only the elements that are common between the lists (without duplicates). Make sure your program works on two lists of different sizes. Write this in one line of Python using at least one list comprehension. (Hint: Remember list comprehensions from Exercise 7).\n",
    "\n",
    "Extra:\n",
    "\n",
    "Randomly generate two lists to test this"
   ]
  },
  {
   "cell_type": "code",
   "execution_count": 12,
   "metadata": {},
   "outputs": [
    {
     "name": "stdout",
     "output_type": "stream",
     "text": [
      "{1, 2, 3, 5, 8, 13}\n",
      "{1, 2, 3, 5, 8, 13}\n",
      "[29, 11, 53, 94, 61, 19, 6, 16, 42, 99]\n",
      "[25, 26, 62, 80, 59, 93, 61, 53, 96, 47]\n",
      "{61, 53}\n"
     ]
    }
   ],
   "source": [
    "a = [1, 1, 2, 3, 5, 8, 13, 21, 34, 55, 89]\n",
    "b = [1, 2, 3, 4, 5, 6, 7, 8, 9, 10, 11, 12, 13]\n",
    "\n",
    "unique_list = []\n",
    "\n",
    "for n in a:\n",
    "    if n in b:\n",
    "        unique_list.append(n)\n",
    "print(set(unique_list))\n",
    "\n",
    "# at least one list comprehension\n",
    "\n",
    "unique =print(set([n for n in a if n in b]))\n",
    "\n",
    "import random as rand\n",
    "\n",
    "c = rand.sample(range(100),10)\n",
    "print(c)\n",
    "d = rand.sample(range(100),10)\n",
    "print(d)\n",
    "\n",
    "extra_uniquelist = print(set((n for n in c if n in d)))\n"
   ]
  },
  {
   "cell_type": "code",
   "execution_count": null,
   "metadata": {},
   "outputs": [],
   "source": []
  }
 ],
 "metadata": {
  "kernelspec": {
   "display_name": "Python 3",
   "language": "python",
   "name": "python3"
  },
  "language_info": {
   "codemirror_mode": {
    "name": "ipython",
    "version": 3
   },
   "file_extension": ".py",
   "mimetype": "text/x-python",
   "name": "python",
   "nbconvert_exporter": "python",
   "pygments_lexer": "ipython3",
   "version": "3.7.4"
  }
 },
 "nbformat": 4,
 "nbformat_minor": 2
}
